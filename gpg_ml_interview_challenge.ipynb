{
  "cells": [
    {
      "cell_type": "markdown",
      "metadata": {
        "id": "view-in-github",
        "colab_type": "text"
      },
      "source": [
        "<a href=\"https://colab.research.google.com/github/MonkeyWrenchGang/ml-challenge/blob/main/gpg_ml_interview_challenge.ipynb\" target=\"_parent\"><img src=\"https://colab.research.google.com/assets/colab-badge.svg\" alt=\"Open In Colab\"/></a>"
      ]
    },
    {
      "cell_type": "markdown",
      "metadata": {
        "id": "e3Lwx5csbuw9"
      },
      "source": [
        "# Introduction \n",
        "\n",
        "Thank you for your interest in joining our team. As part of the interview process, we would like to invite you to take on a data science challenge. This challenge will give you the opportunity to showcase your skills and expertise in machine learning. There are no right or wrong answers in this challenge, and it is not a competition. Instead, we would like you to detail your thought process and explain why you made the choices you did as you work through the project. You will be presenting your notebook to several members of our team, and you are free to add or update any cells in the notebook as you see fit. We look forward to seeing your work.\n",
        "\n",
        "\n",
        "\n",
        "---\n",
        "\n",
        "\n",
        "## Challenge Identifying Fraud\n",
        "\n",
        "As a part of our team, your responsibility will be to detect and prevent any cases of fraud, waste, or abuse in the payment stream. For this purpose, we will provide you with a sample dataset of transactions and a holdout set. Your task is to guide us through your process of exploring the data, building a model, and evaluating it. The target variable that you will be working on is called \"EVENT_LABEL\" and contains two labels, \"legit\" and \"fraud\". We are looking forward to seeing your approach to this task.\n",
        "\n",
        "\n",
        "**We have given you access to two datasets**:\n",
        "\n",
        "• \"fraud_training_119k.csv\" - Please use this dataset to train and evaluate your model.\n",
        "\n",
        "• \"fraud_holdout_1k.csv\" - Please use this dataset to score your holdout set and provide us with a CSV file of your predictions.\n",
        "\n",
        "## Guidance  \n",
        "\n",
        "Here are some guidelines to follow:\n",
        "\n",
        "1. You have the freedom to use any Python package that you feel is appropriate for the task.\n",
        "\n",
        "2. We suggest that you limit your time spent on this task to just a few hours, as it is not a competition.\n",
        "\n",
        "3. Please refrain from sharing your solution on any public platforms such as GitHub.\n",
        "\n",
        "4. Please add as many code and markdown cells as nescesary, and document your steps. \n",
        "\n",
        "4. Once you have completed your task, please email your notebook, any additional code, and your predictions to your recruiter.\n",
        "\n",
        "6. We will schedule a 45-minute session for you to present your results to the team.\n",
        "\n",
        "**Most importantly, have fun with this task! We are excited to see what you come up with.**\n"
      ]
    },
    {
      "cell_type": "code",
      "execution_count": null,
      "metadata": {
        "id": "9x09BWY0buxA"
      },
      "outputs": [],
      "source": [
        "from IPython.core.display import display, HTML\n",
        "display(HTML(\"<style>.container { width:95% !important; }</style>\"))\n",
        "# add what ever python libraries you see fit. \n"
      ]
    },
    {
      "cell_type": "markdown",
      "metadata": {
        "id": "Zc-9HAhKbuxA"
      },
      "source": [
        "# Import Datasets \n",
        "\n",
        "- Training: https://github.com/MonkeyWrenchGang/ml-challenge/blob/main/fraud_training_119k.csv.zip\n",
        "- Holdout: https://raw.githubusercontent.com/MonkeyWrenchGang/ml-challenge/main/fraud_holdout_1k.csv\n",
        "\n"
      ]
    },
    {
      "cell_type": "code",
      "execution_count": null,
      "metadata": {
        "id": "rBaCmGkDbuxB"
      },
      "outputs": [],
      "source": []
    },
    {
      "cell_type": "markdown",
      "metadata": {
        "id": "PvTg0BpNbuxB"
      },
      "source": [
        "# Exploratory Analysis \n"
      ]
    },
    {
      "cell_type": "code",
      "execution_count": null,
      "metadata": {
        "id": "KTwVgurRbuxB"
      },
      "outputs": [],
      "source": []
    },
    {
      "cell_type": "markdown",
      "metadata": {
        "id": "hAc00tsdbuxB"
      },
      "source": [
        "# Model Building "
      ]
    },
    {
      "cell_type": "code",
      "source": [],
      "metadata": {
        "id": "lffCDLHZdFdJ"
      },
      "execution_count": null,
      "outputs": []
    },
    {
      "cell_type": "code",
      "source": [],
      "metadata": {
        "id": "yac5Rj6OdFnB"
      },
      "execution_count": null,
      "outputs": []
    },
    {
      "cell_type": "code",
      "execution_count": null,
      "metadata": {
        "id": "s4eAWlSIbuxB"
      },
      "outputs": [],
      "source": []
    },
    {
      "cell_type": "markdown",
      "metadata": {
        "id": "AOEsDP8ZbuxB"
      },
      "source": [
        "# Model Evaluation"
      ]
    },
    {
      "cell_type": "code",
      "execution_count": null,
      "metadata": {
        "id": "Hct0ytUpbuxC"
      },
      "outputs": [],
      "source": []
    },
    {
      "cell_type": "markdown",
      "metadata": {
        "id": "rz5X0lZibuxC"
      },
      "source": [
        "# Model Calibration\n",
        "\n",
        "What steps, if any, do you need to take to Calibrate your predicted pobablities? \n"
      ]
    },
    {
      "cell_type": "code",
      "execution_count": null,
      "metadata": {
        "id": "Hh2i_vLzbuxC"
      },
      "outputs": [],
      "source": []
    },
    {
      "cell_type": "markdown",
      "metadata": {
        "id": "MC0BC0zKbuxC"
      },
      "source": [
        "# Operationalizing your model \n",
        "\n",
        "we opperate at a 1% False Positive Rate, how could we use your model to atain a 1%FPR rate? \n"
      ]
    },
    {
      "cell_type": "code",
      "execution_count": null,
      "metadata": {
        "id": "F6eDc1RYbuxC"
      },
      "outputs": [],
      "source": []
    },
    {
      "cell_type": "markdown",
      "metadata": {
        "id": "EWdRMjFvbuxC"
      },
      "source": [
        "# Explain Events \n",
        "Using your model, can you explain your prediction for the following EVENT_IDs? \n",
        "\n",
        "EVENT_IDs:  \n",
        "\"1103060\"  \n",
        "\"1001840\"  \n",
        "\"1443700\"  \n",
        "\"1819280\"  \n",
        "\n",
        "we are looking for a \"reason\" why the model thought they were fraud or legit."
      ]
    },
    {
      "cell_type": "code",
      "execution_count": null,
      "metadata": {
        "id": "qKdoTIv0buxC"
      },
      "outputs": [],
      "source": []
    },
    {
      "cell_type": "markdown",
      "metadata": {
        "id": "4Ge-L_L_buxC"
      },
      "source": [
        "# Make predictions\n",
        "\n",
        "To make your predictions on the 1k holdout dataset, please send us a CSV file containing the EVENT_ID and your corresponding EVENT_PREDICTION. Once you have generated this file, please save it and compress it into a ZIP file. Finally, please send the compressed file to us via email."
      ]
    },
    {
      "cell_type": "code",
      "execution_count": null,
      "metadata": {
        "id": "9v_oP9MfbuxD"
      },
      "outputs": [],
      "source": []
    }
  ],
  "metadata": {
    "kernelspec": {
      "display_name": "Python 3",
      "language": "python",
      "name": "python3"
    },
    "language_info": {
      "codemirror_mode": {
        "name": "ipython",
        "version": 3
      },
      "file_extension": ".py",
      "mimetype": "text/x-python",
      "name": "python",
      "nbconvert_exporter": "python",
      "pygments_lexer": "ipython3",
      "version": "3.8.3"
    },
    "colab": {
      "provenance": [],
      "include_colab_link": true
    }
  },
  "nbformat": 4,
  "nbformat_minor": 0
}