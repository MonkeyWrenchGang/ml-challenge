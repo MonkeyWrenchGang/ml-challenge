{
 "cells": [
  {
   "attachments": {},
   "cell_type": "markdown",
   "metadata": {},
   "source": [
    "## Introduction \n",
    "\n",
    "Hi we are glad that you are interested in joining our team at JPMC, as part of the interview process we invite you to take this machine learning challenge. Basically, this is a way for you to highlight your skills and command of machine learning. Don't worry there are no right or wrong answers, instead we ask you to detail your thought process, explain why you chose what you did as you work through this project. You'll be presenting your notebook to several of our team members, feel free to add/update any cells in the notebook as you see fit. \n",
    "\n",
    "## Challenge Identifying Fraud\n",
    "\n",
    "Our job is to find fraud, waste and abuse in the payment stream. You have been presented with a sample dataset of transactions and a holdout set, your job is to walk us through your process of exploring the data, building a model and evaluating it. Your target variable is called EVENT_LABEL and contains a label \"legit\" or \"fraud\". \n",
    "\n",
    "\n",
    "You have been provided two datasets  :\n",
    "\n",
    "•\tfraud_training_119k.csv – use this one to train and evaluate your model   \n",
    "•\tfraud_holdout_1k.csv – use this one to score your holdout set and return a CSV to us of your predictions  \n",
    "    (just include EVENT_ID and EVENT_PREDICTION in your CSV)  \n",
    "\n",
    "We ask you to provide your notebook and your predictions back to us when you are complete. Finally, as part of the process we'll look to schedule 30 minutes with you to present your notebook and approach. We look forward to seeing your work! \n",
    "\n"
   ]
  },
  {
   "cell_type": "code",
   "execution_count": null,
   "metadata": {},
   "outputs": [],
   "source": [
    "from IPython.core.display import display, HTML\n",
    "display(HTML(\"<style>.container { width:95% !important; }</style>\"))\n",
    "# add what ever python libraries you see fit. \n"
   ]
  },
  {
   "cell_type": "markdown",
   "metadata": {},
   "source": [
    "# Import Datasets \n"
   ]
  },
  {
   "cell_type": "code",
   "execution_count": null,
   "metadata": {},
   "outputs": [],
   "source": []
  },
  {
   "cell_type": "markdown",
   "metadata": {},
   "source": [
    "# Exploratory Analysis \n"
   ]
  },
  {
   "cell_type": "code",
   "execution_count": null,
   "metadata": {},
   "outputs": [],
   "source": []
  },
  {
   "cell_type": "markdown",
   "metadata": {},
   "source": [
    "# Model Building "
   ]
  },
  {
   "cell_type": "code",
   "execution_count": null,
   "metadata": {},
   "outputs": [],
   "source": []
  },
  {
   "cell_type": "markdown",
   "metadata": {},
   "source": [
    "# Model Evaluation"
   ]
  },
  {
   "cell_type": "code",
   "execution_count": null,
   "metadata": {},
   "outputs": [],
   "source": []
  },
  {
   "cell_type": "markdown",
   "metadata": {},
   "source": [
    "# Model Calibration\n",
    "\n",
    "What steps, if any, do you need to take to Calibrate your predicted pobablities? \n"
   ]
  },
  {
   "cell_type": "code",
   "execution_count": null,
   "metadata": {},
   "outputs": [],
   "source": []
  },
  {
   "cell_type": "markdown",
   "metadata": {},
   "source": [
    "# Operationalizing your model \n",
    "\n",
    "we opperate at a 1% False Positive Rate, how could we use your model to atain a 1%FPR rate? \n"
   ]
  },
  {
   "cell_type": "code",
   "execution_count": null,
   "metadata": {},
   "outputs": [],
   "source": []
  },
  {
   "cell_type": "markdown",
   "metadata": {},
   "source": [
    "# Explain Events \n",
    "Using your model, can you explain your prediction for the following EVENT_IDs? \n",
    "\n",
    "EVENT_IDs:  \n",
    "\"1103060\"  \n",
    "\"1001840\"  \n",
    "\"1443700\"  \n",
    "\"1819280\"  \n",
    "\n",
    "we are looking for a \"reason\" why the model thought they were fraud or legit."
   ]
  },
  {
   "cell_type": "code",
   "execution_count": null,
   "metadata": {},
   "outputs": [],
   "source": []
  },
  {
   "cell_type": "markdown",
   "metadata": {},
   "source": [
    "# Make predictions\n",
    "\n",
    "make your predictions on the 1k holdout, all you need to send us is the EVENT_ID and your EVENT_PREDICTION"
   ]
  },
  {
   "cell_type": "code",
   "execution_count": null,
   "metadata": {},
   "outputs": [],
   "source": []
  }
 ],
 "metadata": {
  "kernelspec": {
   "display_name": "Python 3",
   "language": "python",
   "name": "python3"
  },
  "language_info": {
   "codemirror_mode": {
    "name": "ipython",
    "version": 3
   },
   "file_extension": ".py",
   "mimetype": "text/x-python",
   "name": "python",
   "nbconvert_exporter": "python",
   "pygments_lexer": "ipython3",
   "version": "3.8.3"
  }
 },
 "nbformat": 4,
 "nbformat_minor": 4
}
